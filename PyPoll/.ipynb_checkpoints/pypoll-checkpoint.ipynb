{
 "cells": [
  {
   "cell_type": "code",
   "execution_count": 1,
   "metadata": {},
   "outputs": [],
   "source": [
    "#import dictionaries\n",
    "\n",
    "import pandas as pd\n",
    "import os"
   ]
  },
  {
   "cell_type": "code",
   "execution_count": 2,
   "metadata": {},
   "outputs": [
    {
     "data": {
      "text/html": [
       "<div>\n",
       "<style scoped>\n",
       "    .dataframe tbody tr th:only-of-type {\n",
       "        vertical-align: middle;\n",
       "    }\n",
       "\n",
       "    .dataframe tbody tr th {\n",
       "        vertical-align: top;\n",
       "    }\n",
       "\n",
       "    .dataframe thead th {\n",
       "        text-align: right;\n",
       "    }\n",
       "</style>\n",
       "<table border=\"1\" class=\"dataframe\">\n",
       "  <thead>\n",
       "    <tr style=\"text-align: right;\">\n",
       "      <th></th>\n",
       "      <th>Voter ID</th>\n",
       "      <th>County</th>\n",
       "      <th>Candidate</th>\n",
       "    </tr>\n",
       "  </thead>\n",
       "  <tbody>\n",
       "    <tr>\n",
       "      <th>0</th>\n",
       "      <td>12864552</td>\n",
       "      <td>Marsh</td>\n",
       "      <td>Khan</td>\n",
       "    </tr>\n",
       "    <tr>\n",
       "      <th>1</th>\n",
       "      <td>17444633</td>\n",
       "      <td>Marsh</td>\n",
       "      <td>Correy</td>\n",
       "    </tr>\n",
       "    <tr>\n",
       "      <th>2</th>\n",
       "      <td>19330107</td>\n",
       "      <td>Marsh</td>\n",
       "      <td>Khan</td>\n",
       "    </tr>\n",
       "    <tr>\n",
       "      <th>3</th>\n",
       "      <td>19865775</td>\n",
       "      <td>Queen</td>\n",
       "      <td>Khan</td>\n",
       "    </tr>\n",
       "    <tr>\n",
       "      <th>4</th>\n",
       "      <td>11927875</td>\n",
       "      <td>Marsh</td>\n",
       "      <td>Khan</td>\n",
       "    </tr>\n",
       "  </tbody>\n",
       "</table>\n",
       "</div>"
      ],
      "text/plain": [
       "   Voter ID County Candidate\n",
       "0  12864552  Marsh      Khan\n",
       "1  17444633  Marsh    Correy\n",
       "2  19330107  Marsh      Khan\n",
       "3  19865775  Queen      Khan\n",
       "4  11927875  Marsh      Khan"
      ]
     },
     "execution_count": 2,
     "metadata": {},
     "output_type": "execute_result"
    }
   ],
   "source": [
    "#open and read first 5 rows of the csv\n",
    "\n",
    "pypoll_path=\"Pypoll.csv\"\n",
    "pypoll_df=pd.read_csv(pypoll_path)\n",
    "pypoll_df.head()"
   ]
  },
  {
   "cell_type": "code",
   "execution_count": 7,
   "metadata": {},
   "outputs": [
    {
     "data": {
      "text/plain": [
       "array(['Khan', 'Correy', 'Li', \"O'Tooley\"], dtype=object)"
      ]
     },
     "execution_count": 7,
     "metadata": {},
     "output_type": "execute_result"
    }
   ],
   "source": [
    "#Display distinct candidates\n",
    "\n",
    "pypoll_df['Candidate'].unique()"
   ]
  },
  {
   "cell_type": "code",
   "execution_count": 29,
   "metadata": {},
   "outputs": [
    {
     "name": "stdout",
     "output_type": "stream",
     "text": [
      "63.0\n",
      "20.0\n",
      "14.000000000000002\n",
      "3.0\n"
     ]
    }
   ],
   "source": [
    "#Set up percentages by candidate\n",
    "\n",
    "Khan_share = (pypoll_df.loc[pypoll_df['Candidate'] == 'Khan', 'Candidate'].count())/(pypoll_df.shape[0])\n",
    "Khan_share = Khan_share.round(2)*100\n",
    "print(Khan_share)\n",
    "\n",
    "Correy_share = (pypoll_df.loc[pypoll_df['Candidate'] == 'Correy', 'Candidate'].count())/(pypoll_df.shape[0])\n",
    "Correy_share = Correy_share.round(2)*100\n",
    "print(Correy_share)\n",
    "\n",
    "Li_share = (pypoll_df.loc[pypoll_df['Candidate'] == 'Li', 'Candidate'].count())/(pypoll_df.shape[0])\n",
    "Li_share = Li_share.round(2)*100\n",
    "print(Li_share)\n",
    "\n",
    "OTooley_share = (pypoll_df.loc[pypoll_df['Candidate'] == \"O'Tooley\", 'Candidate'].count())/(pypoll_df.shape[0])\n",
    "OTooley_share = OTooley_share.round(2)*100\n",
    "print(OTooley_share)\n"
   ]
  },
  {
   "cell_type": "code",
   "execution_count": 53,
   "metadata": {},
   "outputs": [
    {
     "name": "stdout",
     "output_type": "stream",
     "text": [
      "Khan\n"
     ]
    }
   ],
   "source": [
    "winner=\"\"\n",
    "if ((Correy_share>Khan_share) and (Correy_share>Li_share) and (Correy_share>OTooley_share)):\n",
    "    winner=\"Correy\"\n",
    "elif ((Khan_share>Correy_share) and (Khan_share>Li_share) and (Khan_share>OTooley_share)):\n",
    "    winner=\"Khan\"\n",
    "elif ((Li_share>Correy_share) and (Li_share>Khan_share) and (Li_share>OTooley_share)):\n",
    "    winner=\"Li\"\n",
    "else: winner=\"O'Tooley\"\n",
    "print(winner)"
   ]
  },
  {
   "cell_type": "code",
   "execution_count": 55,
   "metadata": {},
   "outputs": [
    {
     "name": "stdout",
     "output_type": "stream",
     "text": [
      "\n",
      "Election Results\n",
      "------------------------------\n",
      "Total Votes: 3521001\n",
      "------------------------------\n",
      "Votes for Correy: 704200 (20.0%)\n",
      "Votes for Khan: 2218231 (63.0%)\n",
      "Votes for Li: 492940 (14.000000000000002%)\n",
      "Votes for O'Tooley: 105630 (3.0%)\n",
      "------------------------------\n",
      "Winner: Khan\n"
     ]
    }
   ],
   "source": [
    "#printing outputs\n",
    "\n",
    "print(\"\")\n",
    "print(\"Election Results\")\n",
    "print(\"------------------------------\")\n",
    "print(\"Total Votes: \" + str(pypoll_df.shape[0]))\n",
    "print(\"------------------------------\")\n",
    "print(\"Votes for Correy: \" + str(pypoll_df.loc[pypoll_df['Candidate'] == 'Correy', 'Candidate'].count()) + \" (\" + str(Correy_share) + \"%)\") \n",
    "print(\"Votes for Khan: \" + str(pypoll_df.loc[pypoll_df['Candidate'] == 'Khan', 'Candidate'].count()) + \" (\" + str(Khan_share) + \"%)\") \n",
    "print(\"Votes for Li: \" + str(pypoll_df.loc[pypoll_df['Candidate'] == 'Li', 'Candidate'].count()) + \" (\" + str(Li_share) + \"%)\") \n",
    "print(\"Votes for O'Tooley: \" + str(pypoll_df.loc[pypoll_df['Candidate'] == \"O'Tooley\", 'Candidate'].count()) + \" (\" + str(OTooley_share) + \"%)\")\n",
    "print(\"------------------------------\")\n",
    "print(\"Winner: \" + winner)\n"
   ]
  },
  {
   "cell_type": "code",
   "execution_count": null,
   "metadata": {},
   "outputs": [],
   "source": []
  },
  {
   "cell_type": "code",
   "execution_count": null,
   "metadata": {},
   "outputs": [],
   "source": []
  }
 ],
 "metadata": {
  "kernelspec": {
   "display_name": "Python 3",
   "language": "python",
   "name": "python3"
  },
  "language_info": {
   "codemirror_mode": {
    "name": "ipython",
    "version": 3
   },
   "file_extension": ".py",
   "mimetype": "text/x-python",
   "name": "python",
   "nbconvert_exporter": "python",
   "pygments_lexer": "ipython3",
   "version": "3.7.1"
  }
 },
 "nbformat": 4,
 "nbformat_minor": 2
}
